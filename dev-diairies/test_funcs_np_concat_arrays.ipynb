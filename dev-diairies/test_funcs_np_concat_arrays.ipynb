{
 "cells": [
  {
   "cell_type": "code",
   "execution_count": 1,
   "metadata": {},
   "outputs": [
    {
     "ename": "ModuleNotFoundError",
     "evalue": "No module named 'numpy'",
     "output_type": "error",
     "traceback": [
      "\u001b[31m---------------------------------------------------------------------------\u001b[39m",
      "\u001b[31mModuleNotFoundError\u001b[39m                       Traceback (most recent call last)",
      "\u001b[36mCell\u001b[39m\u001b[36m \u001b[39m\u001b[32mIn[1]\u001b[39m\u001b[32m, line 2\u001b[39m\n\u001b[32m      1\u001b[39m \u001b[38;5;28;01mfrom\u001b[39;00m\u001b[38;5;250m \u001b[39m\u001b[34;01mpprint\u001b[39;00m\u001b[38;5;250m \u001b[39m\u001b[38;5;28;01mimport\u001b[39;00m pprint\n\u001b[32m----> \u001b[39m\u001b[32m2\u001b[39m \u001b[38;5;28;01mfrom\u001b[39;00m\u001b[38;5;250m \u001b[39m\u001b[34;01mMNT2Heightmap\u001b[39;00m\u001b[38;5;250m \u001b[39m\u001b[38;5;28;01mimport\u001b[39;00m *\n\u001b[32m      3\u001b[39m \u001b[38;5;28;01mfrom\u001b[39;00m\u001b[38;5;250m \u001b[39m\u001b[34;01mpathlib\u001b[39;00m\u001b[38;5;250m \u001b[39m\u001b[38;5;28;01mimport\u001b[39;00m Path\n\u001b[32m      4\u001b[39m asc1 = ASCFile(Path(\u001b[33m'\u001b[39m\u001b[33m./SampleASCFiles/sample_1.asc\u001b[39m\u001b[33m'\u001b[39m))\n",
      "\u001b[36mFile \u001b[39m\u001b[32mc:\\Users\\betho\\PycharmProjects\\topo2stl\\MNT2Heightmap.py:7\u001b[39m\n\u001b[32m      4\u001b[39m \u001b[38;5;28;01mimport\u001b[39;00m\u001b[38;5;250m \u001b[39m\u001b[34;01mre\u001b[39;00m\n\u001b[32m      5\u001b[39m \u001b[38;5;28;01mfrom\u001b[39;00m\u001b[38;5;250m \u001b[39m\u001b[34;01margparse\u001b[39;00m\u001b[38;5;250m \u001b[39m\u001b[38;5;28;01mimport\u001b[39;00m ArgumentParser\n\u001b[32m----> \u001b[39m\u001b[32m7\u001b[39m \u001b[38;5;28;01mimport\u001b[39;00m\u001b[38;5;250m \u001b[39m\u001b[34;01mnumpy\u001b[39;00m\u001b[38;5;250m \u001b[39m\u001b[38;5;28;01mas\u001b[39;00m\u001b[38;5;250m \u001b[39m\u001b[34;01mnp\u001b[39;00m\n\u001b[32m      8\u001b[39m \u001b[38;5;28;01mfrom\u001b[39;00m\u001b[38;5;250m \u001b[39m\u001b[34;01mpathlib\u001b[39;00m\u001b[38;5;250m \u001b[39m\u001b[38;5;28;01mimport\u001b[39;00m Path\n\u001b[32m     10\u001b[39m \u001b[38;5;28;01mimport\u001b[39;00m\u001b[38;5;250m \u001b[39m\u001b[34;01mskimage\u001b[39;00m\u001b[34;01m.\u001b[39;00m\u001b[34;01mmeasure\u001b[39;00m\u001b[34;01m.\u001b[39;00m\u001b[34;01mblock\u001b[39;00m\n",
      "\u001b[31mModuleNotFoundError\u001b[39m: No module named 'numpy'"
     ]
    }
   ],
   "source": [
    "from pprint import pprint\n",
    "from MNT2Heightmap import *\n",
    "from pathlib import Path\n",
    "asc1 = ASCFile(Path('./SampleASCFiles/sample_1.asc'))\n",
    "asc2 = ASCFile(Path('./SampleASCFiles/sample_2.asc'))\n",
    "print(asc1)\n",
    "print(asc2)"
   ]
  },
  {
   "cell_type": "code",
   "execution_count": null,
   "metadata": {},
   "outputs": [
    {
     "name": "stdout",
     "output_type": "stream",
     "text": [
      "[ 0.          0.05050505  0.1010101   0.15151515  0.2020202   0.25252525\n",
      "  0.3030303   0.35353535  0.4040404   0.45454545  0.50505051  0.55555556\n",
      "  0.60606061  0.65656566  0.70707071  0.75757576  0.80808081  0.85858586\n",
      "  0.90909091  0.95959596  1.03030303  1.18181818  1.33333333  1.48484848\n",
      "  1.63636364  1.78787879  1.93939394  2.09090909  2.24242424  2.39393939\n",
      "  2.54545455  2.6969697   2.84848485  3.          3.15151515  3.3030303\n",
      "  3.45454545  3.60606061  3.75757576  3.90909091  4.1010101   4.35353535\n",
      "  4.60606061  4.85858586  5.11111111  5.36363636  5.61616162  5.86868687\n",
      "  6.12121212  6.37373737  6.62626263  6.87878788  7.13131313  7.38383838\n",
      "  7.63636364  7.88888889  8.14141414  8.39393939  8.64646465  8.8989899\n",
      "  9.21212121  9.56565657  9.91919192 10.27272727 10.62626263 10.97979798\n",
      " 11.33333333 11.68686869 12.04040404 12.39393939 12.74747475 13.1010101\n",
      " 13.45454545 13.80808081 14.16161616 14.51515152 14.86868687 15.22222222\n",
      " 15.57575758 15.92929293 16.36363636 16.81818182 17.27272727 17.72727273\n",
      " 18.18181818 18.63636364 19.09090909 19.54545455 20.         20.45454545\n",
      " 20.90909091 21.36363636 21.81818182 22.27272727 22.72727273 23.18181818\n",
      " 23.63636364 24.09090909 24.54545455 25.        ]\n"
     ]
    }
   ],
   "source": [
    "import numpy as np\n",
    "from scipy.interpolate import interp1d\n",
    "\n",
    "# Example 1D data\n",
    "x = np.array([0, 1, 2, 3, 4, 5])\n",
    "y = np.array([0, 1, 4, 9, 16, 25])\n",
    "\n",
    "# Create an interpolation function\n",
    "interp_func = interp1d(x, y, kind='linear')  # You can change 'linear' to 'cubic', 'nearest', etc.\n",
    "\n",
    "# New x values to interpolate\n",
    "x_new = np.linspace(0, 5, 100)\n",
    "\n",
    "# Interpolate y values\n",
    "y_new = interp_func(x_new)\n",
    "\n",
    "print(y_new)"
   ]
  }
 ],
 "metadata": {
  "kernelspec": {
   "display_name": "Python 3",
   "language": "python",
   "name": "python3"
  },
  "language_info": {
   "codemirror_mode": {
    "name": "ipython",
    "version": 3
   },
   "file_extension": ".py",
   "mimetype": "text/x-python",
   "name": "python",
   "nbconvert_exporter": "python",
   "pygments_lexer": "ipython3",
   "version": "3.12.3"
  }
 },
 "nbformat": 4,
 "nbformat_minor": 2
}
